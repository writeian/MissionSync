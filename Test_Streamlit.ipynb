{
 "cells": [
  {
   "cell_type": "code",
   "execution_count": null,
   "id": "7fba8213-d5a2-4a79-a27f-441595041715",
   "metadata": {},
   "outputs": [],
   "source": [
    "import streamlit as st\n",
    "\n",
    "# Title of the app\n",
    "st.title('Streamlit Test App')\n",
    "\n",
    "# Display a simple message\n",
    "st.write(\"Streamlit is working!\")\n"
   ]
  }
 ],
 "metadata": {
  "kernelspec": {
   "display_name": "",
   "name": ""
  },
  "language_info": {
   "name": ""
  }
 },
 "nbformat": 4,
 "nbformat_minor": 5
}
